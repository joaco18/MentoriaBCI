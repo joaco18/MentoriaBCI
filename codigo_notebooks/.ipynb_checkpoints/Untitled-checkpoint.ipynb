{
 "cells": [
  {
   "cell_type": "code",
   "execution_count": 1,
   "id": "9b69e112",
   "metadata": {},
   "outputs": [],
   "source": [
    "#Generación del dataloader"
   ]
  },
  {
   "cell_type": "code",
   "execution_count": null,
   "id": "7dc4242b",
   "metadata": {},
   "outputs": [],
   "source": []
  },
  {
   "cell_type": "code",
   "execution_count": null,
   "id": "97152206",
   "metadata": {},
   "outputs": [],
   "source": [
    "complete_dataset = pd.DataFrame()\n",
    "datafiles_path = '/home/joaquin/Desktop/MentoriaDiploDatos/MetoriaBCI/Database'\n",
    "csvs_list = os.listdir(datafiles_path)\n",
    "for file in csvs_list:\n",
    "    csv_path = os.path.join(datafiles_path, file)\n",
    "    dataset = clean_read_bci_csv(csv_path)\n",
    "    dataset = add_sub_label(dataset)\n",
    "    dataset['subject'] = file[:2]\n",
    "    dataset['session'] = file[3]\n",
    "    dataset['sub_sess'] = dataset.subject + '-' + dataset.session\n",
    "    complete_dataset = pd.concat([complete_dataset, dataset])"
   ]
  }
 ],
 "metadata": {
  "kernelspec": {
   "display_name": "Python 3",
   "language": "python",
   "name": "python3"
  },
  "language_info": {
   "codemirror_mode": {
    "name": "ipython",
    "version": 3
   },
   "file_extension": ".py",
   "mimetype": "text/x-python",
   "name": "python",
   "nbconvert_exporter": "python",
   "pygments_lexer": "ipython3",
   "version": "3.9.4"
  }
 },
 "nbformat": 4,
 "nbformat_minor": 5
}
